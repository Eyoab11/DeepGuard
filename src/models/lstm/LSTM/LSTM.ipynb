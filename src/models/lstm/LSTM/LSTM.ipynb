{
 "cells": [
  {
   "cell_type": "code",
   "execution_count": 1,
   "id": "f0f3478a",
   "metadata": {},
   "outputs": [],
   "source": [
    "import pandas as pd\n",
    "import numpy as np\n",
    "import matplotlib.pyplot as plt\n",
    "import seaborn as sns\n",
    "from sklearn.metrics import (accuracy_score, precision_score, recall_score, f1_score, \n",
    "                             roc_auc_score, confusion_matrix, classification_report, \n",
    "                             roc_curve, auc)\n",
    "import tensorflow as tf\n",
    "import os\n",
    "import warnings\n",
    "warnings.filterwarnings('ignore')"
   ]
  },
  {
   "cell_type": "code",
   "execution_count": 2,
   "id": "701c54c0",
   "metadata": {},
   "outputs": [
    {
     "name": "stdout",
     "output_type": "stream",
     "text": [
      "TensorFlow Version: 2.18.0\n",
      "Keras imports successful!\n"
     ]
    }
   ],
   "source": [
    "# Verify TensorFlow\n",
    "print(\"TensorFlow Version:\", tf.__version__)\n",
    "try:\n",
    "    from tensorflow.keras.models import Sequential\n",
    "    from tensorflow.keras.layers import LSTM, Dense, Dropout, BatchNormalization\n",
    "    from tensorflow.keras.callbacks import EarlyStopping, ModelCheckpoint\n",
    "    print(\"Keras imports successful!\")\n",
    "except ImportError as e:\n",
    "    print(\"Keras import error:\", e)\n",
    "    print(\"Please reinstall TensorFlow: pip uninstall tensorflow -y; pip install tensorflow==2.18.0\")\n",
    "    raise"
   ]
  },
  {
   "cell_type": "code",
   "execution_count": 3,
   "id": "ded20626",
   "metadata": {},
   "outputs": [],
   "source": [
    "# Set random seed for reproducibility\n",
    "np.random.seed(42)\n",
    "tf.random.set_seed(42)"
   ]
  },
  {
   "cell_type": "code",
   "execution_count": 4,
   "id": "2f23b086",
   "metadata": {},
   "outputs": [],
   "source": [
    "try:\n",
    "    train_df = pd.read_csv('../../../data/processed/train.csv')\n",
    "    val_df = pd.read_csv('../../../data/processed/val.csv')\n",
    "    test_df = pd.read_csv('../../../data/processed/test.csv')\n",
    "except FileNotFoundError as e:\n",
    "    print(\"Error: Preprocessed data files not found. Ensure 'train.csv', 'val.csv', 'test.csv' exist.\")\n",
    "    raise\n"
   ]
  },
  {
   "cell_type": "code",
   "execution_count": 5,
   "id": "f6a151f2",
   "metadata": {},
   "outputs": [],
   "source": [
    "# Separate features and labels\n",
    "X_train = train_df.drop('binary_label', axis=1).values\n",
    "y_train = train_df['binary_label'].values\n",
    "X_val = val_df.drop('binary_label', axis=1).values\n",
    "y_val = val_df['binary_label'].values\n",
    "X_test = test_df.drop('binary_label', axis=1).values\n",
    "y_test = test_df['binary_label'].values\n"
   ]
  },
  {
   "cell_type": "code",
   "execution_count": 6,
   "id": "a0720284",
   "metadata": {},
   "outputs": [
    {
     "name": "stdout",
     "output_type": "stream",
     "text": [
      "Loaded and reshaped preprocessed data:\n",
      "Train shape: (2932930, 5, 8), Validation shape: (628485, 5, 8), Test shape: (628485, 5, 8)\n"
     ]
    }
   ],
   "source": [
    "\n",
    "# Reshape data for LSTM: [samples, timesteps, features]\n",
    "timesteps = 5  # Number of time steps (adjust based on dataset)\n",
    "n_features_total = X_train.shape[1]  # 49 for UNSW-NB15\n",
    "target_features = n_features_total + (timesteps - n_features_total % timesteps) % timesteps  # Next multiple of 5 (50)\n",
    "n_features = target_features // timesteps  # 50 // 5 = 10\n",
    "\n",
    "# Pad features with zeros\n",
    "X_train_padded = np.pad(X_train, ((0, 0), (0, target_features - n_features_total)), mode='constant')\n",
    "X_val_padded = np.pad(X_val, ((0, 0), (0, target_features - n_features_total)), mode='constant')\n",
    "X_test_padded = np.pad(X_test, ((0, 0), (0, target_features - n_features_total)), mode='constant')\n",
    "\n",
    "# Reshape\n",
    "X_train = X_train_padded.reshape((X_train.shape[0], timesteps, n_features))\n",
    "X_val = X_val_padded.reshape((X_val.shape[0], timesteps, n_features))\n",
    "X_test = X_test_padded.reshape((X_test.shape[0], timesteps, n_features))\n",
    "\n",
    "print(\"Loaded and reshaped preprocessed data:\")\n",
    "print(f\"Train shape: {X_train.shape}, Validation shape: {X_val.shape}, Test shape: {X_test.shape}\")"
   ]
  },
  {
   "cell_type": "code",
   "execution_count": 8,
   "id": "d01c0a44",
   "metadata": {},
   "outputs": [],
   "source": [
    "# Evaluation function (same as original for consistency)\n",
    "def evaluate_model(y_true, y_pred, y_prob, model_name):\n",
    "    print(f\"\\n{model_name} Evaluation:\")\n",
    "    print(\"Accuracy:\", accuracy_score(y_true, y_pred))\n",
    "    print(\"Precision:\", precision_score(y_true, y_pred))\n",
    "    print(\"Recall:\", recall_score(y_true, y_pred))\n",
    "    print(\"F1-Score:\", f1_score(y_true, y_pred))\n",
    "    print(\"ROC-AUC:\", roc_auc_score(y_true, y_prob))\n",
    "    print(\"\\nClassification Report:\\n\", classification_report(y_true, y_pred))\n",
    "    \n",
    "    # Confusion Matrix\n",
    "    cm = confusion_matrix(y_true, y_pred)\n",
    "    plt.figure(figsize=(6, 4))\n",
    "    sns.heatmap(cm, annot=True, fmt='d', cmap='Blues')\n",
    "    plt.title(f'{model_name} Confusion Matrix')\n",
    "    plt.ylabel('True Label')\n",
    "    plt.xlabel('Predicted Label')\n",
    "    plt.savefig('lstm_confusion_matrix.png')\n",
    "    plt.close()\n",
    "    \n",
    "    # ROC Curve\n",
    "    fpr, tpr, _ = roc_curve(y_true, y_prob)\n",
    "    roc_auc = auc(fpr, tpr)\n",
    "    plt.figure(figsize=(6, 4))\n",
    "    plt.plot(fpr, tpr, label=f'ROC curve (AUC = {roc_auc:.2f})')\n",
    "    plt.plot([0, 1], [0, 1], 'k--')\n",
    "    plt.xlim([0.0, 1.0])\n",
    "    plt.ylim([0.0, 1.05])\n",
    "    plt.xlabel('False Positive Rate')\n",
    "    plt.ylabel('True Positive Rate')\n",
    "    plt.title(f'{model_name} ROC Curve')\n",
    "    plt.legend(loc=\"lower right\")\n",
    "    plt.savefig('lstm_roc_curve.png')\n",
    "    plt.close()\n",
    "    \n",
    "    return {\n",
    "        'Model': model_name,\n",
    "        'Accuracy': accuracy_score(y_true, y_pred),\n",
    "        'Precision': precision_score(y_true, y_pred),\n",
    "        'Recall': recall_score(y_true, y_pred),\n",
    "        'F1-Score': f1_score(y_true, y_pred),\n",
    "        'ROC-AUC': roc_auc_score(y_true, y_prob)\n",
    "    }\n"
   ]
  },
  {
   "cell_type": "code",
   "execution_count": 9,
   "id": "fef24c4d",
   "metadata": {},
   "outputs": [],
   "source": [
    "# Define LSTM Model\n",
    "def create_lstm_model(timesteps, n_features):\n",
    "    model = Sequential([\n",
    "        LSTM(64, input_shape=(timesteps, n_features), return_sequences=False),\n",
    "        BatchNormalization(),\n",
    "        Dropout(0.3),\n",
    "        Dense(32, activation='relu'),\n",
    "        Dense(1, activation='sigmoid')\n",
    "    ])\n",
    "    model.compile(optimizer='adam', loss='binary_crossentropy', metrics=['accuracy'])\n",
    "    return model"
   ]
  },
  {
   "cell_type": "code",
   "execution_count": 10,
   "id": "e9b84078",
   "metadata": {},
   "outputs": [
    {
     "name": "stdout",
     "output_type": "stream",
     "text": [
      "Epoch 1/50\n",
      "\u001b[1m22912/22914\u001b[0m \u001b[32m\u2501\u2501\u2501\u2501\u2501\u2501\u2501\u2501\u2501\u2501\u2501\u2501\u2501\u2501\u2501\u2501\u2501\u2501\u2501\u001b[0m\u001b[37m\u2501\u001b[0m \u001b[1m0s\u001b[0m 12ms/step - accuracy: 0.9658 - loss: 0.0835"
     ]
    },
    {
     "name": "stderr",
     "output_type": "stream",
     "text": [
      "WARNING:absl:You are saving your model as an HDF5 file via `model.save()` or `keras.saving.save_model(model)`. This file format is considered legacy. We recommend using instead the native Keras format, e.g. `model.save('my_model.keras')` or `keras.saving.save_model(model, 'my_model.keras')`. \n"
     ]
    },
    {
     "name": "stdout",
     "output_type": "stream",
     "text": [
      "\u001b[1m22914/22914\u001b[0m \u001b[32m\u2501\u2501\u2501\u2501\u2501\u2501\u2501\u2501\u2501\u2501\u2501\u2501\u2501\u2501\u2501\u2501\u2501\u2501\u2501\u2501\u001b[0m\u001b[37m\u001b[0m \u001b[1m309s\u001b[0m 13ms/step - accuracy: 0.9658 - loss: 0.0835 - val_accuracy: 0.9904 - val_loss: 0.0284\n",
      "Epoch 2/50\n",
      "\u001b[1m22912/22914\u001b[0m \u001b[32m\u2501\u2501\u2501\u2501\u2501\u2501\u2501\u2501\u2501\u2501\u2501\u2501\u2501\u2501\u2501\u2501\u2501\u2501\u2501\u001b[0m\u001b[37m\u2501\u001b[0m \u001b[1m0s\u001b[0m 14ms/step - accuracy: 0.9902 - loss: 0.0272"
     ]
    },
    {
     "name": "stderr",
     "output_type": "stream",
     "text": [
      "WARNING:absl:You are saving your model as an HDF5 file via `model.save()` or `keras.saving.save_model(model)`. This file format is considered legacy. We recommend using instead the native Keras format, e.g. `model.save('my_model.keras')` or `keras.saving.save_model(model, 'my_model.keras')`. \n"
     ]
    },
    {
     "name": "stdout",
     "output_type": "stream",
     "text": [
      "\u001b[1m22914/22914\u001b[0m \u001b[32m\u2501\u2501\u2501\u2501\u2501\u2501\u2501\u2501\u2501\u2501\u2501\u2501\u2501\u2501\u2501\u2501\u2501\u2501\u2501\u2501\u001b[0m\u001b[37m\u001b[0m \u001b[1m368s\u001b[0m 16ms/step - accuracy: 0.9902 - loss: 0.0272 - val_accuracy: 0.9935 - val_loss: 0.0182\n",
      "Epoch 3/50\n",
      "\u001b[1m22913/22914\u001b[0m \u001b[32m\u2501\u2501\u2501\u2501\u2501\u2501\u2501\u2501\u2501\u2501\u2501\u2501\u2501\u2501\u2501\u2501\u2501\u2501\u2501\u001b[0m\u001b[37m\u2501\u001b[0m \u001b[1m0s\u001b[0m 14ms/step - accuracy: 0.9924 - loss: 0.0214"
     ]
    },
    {
     "name": "stderr",
     "output_type": "stream",
     "text": [
      "WARNING:absl:You are saving your model as an HDF5 file via `model.save()` or `keras.saving.save_model(model)`. This file format is considered legacy. We recommend using instead the native Keras format, e.g. `model.save('my_model.keras')` or `keras.saving.save_model(model, 'my_model.keras')`. \n"
     ]
    },
    {
     "name": "stdout",
     "output_type": "stream",
     "text": [
      "\u001b[1m22914/22914\u001b[0m \u001b[32m\u2501\u2501\u2501\u2501\u2501\u2501\u2501\u2501\u2501\u2501\u2501\u2501\u2501\u2501\u2501\u2501\u2501\u2501\u2501\u2501\u001b[0m\u001b[37m\u001b[0m \u001b[1m361s\u001b[0m 16ms/step - accuracy: 0.9924 - loss: 0.0214 - val_accuracy: 0.9942 - val_loss: 0.0163\n",
      "Epoch 4/50\n",
      "\u001b[1m22914/22914\u001b[0m \u001b[32m\u2501\u2501\u2501\u2501\u2501\u2501\u2501\u2501\u2501\u2501\u2501\u2501\u2501\u2501\u2501\u2501\u2501\u2501\u2501\u2501\u001b[0m\u001b[37m\u001b[0m \u001b[1m330s\u001b[0m 14ms/step - accuracy: 0.9931 - loss: 0.0193 - val_accuracy: 0.9847 - val_loss: 0.0312\n",
      "Epoch 5/50\n",
      "\u001b[1m22912/22914\u001b[0m \u001b[32m\u2501\u2501\u2501\u2501\u2501\u2501\u2501\u2501\u2501\u2501\u2501\u2501\u2501\u2501\u2501\u2501\u2501\u2501\u2501\u001b[0m\u001b[37m\u2501\u001b[0m \u001b[1m0s\u001b[0m 11ms/step - accuracy: 0.9935 - loss: 0.0178"
     ]
    },
    {
     "name": "stderr",
     "output_type": "stream",
     "text": [
      "WARNING:absl:You are saving your model as an HDF5 file via `model.save()` or `keras.saving.save_model(model)`. This file format is considered legacy. We recommend using instead the native Keras format, e.g. `model.save('my_model.keras')` or `keras.saving.save_model(model, 'my_model.keras')`. \n"
     ]
    },
    {
     "name": "stdout",
     "output_type": "stream",
     "text": [
      "\u001b[1m22914/22914\u001b[0m \u001b[32m\u2501\u2501\u2501\u2501\u2501\u2501\u2501\u2501\u2501\u2501\u2501\u2501\u2501\u2501\u2501\u2501\u2501\u2501\u2501\u2501\u001b[0m\u001b[37m\u001b[0m \u001b[1m278s\u001b[0m 12ms/step - accuracy: 0.9935 - loss: 0.0178 - val_accuracy: 0.9942 - val_loss: 0.0151\n",
      "Epoch 6/50\n",
      "\u001b[1m22914/22914\u001b[0m \u001b[32m\u2501\u2501\u2501\u2501\u2501\u2501\u2501\u2501\u2501\u2501\u2501\u2501\u2501\u2501\u2501\u2501\u2501\u2501\u2501\u2501\u001b[0m\u001b[37m\u001b[0m \u001b[1m287s\u001b[0m 13ms/step - accuracy: 0.9938 - loss: 0.0168 - val_accuracy: 0.9936 - val_loss: 0.0165\n",
      "Epoch 7/50\n",
      "\u001b[1m22914/22914\u001b[0m \u001b[32m\u2501\u2501\u2501\u2501\u2501\u2501\u2501\u2501\u2501\u2501\u2501\u2501\u2501\u2501\u2501\u2501\u2501\u2501\u2501\u2501\u001b[0m\u001b[37m\u001b[0m \u001b[1m179s\u001b[0m 8ms/step - accuracy: 0.9939 - loss: 0.0161 - val_accuracy: 0.9932 - val_loss: 0.0168\n",
      "Epoch 8/50\n",
      "\u001b[1m22910/22914\u001b[0m \u001b[32m\u2501\u2501\u2501\u2501\u2501\u2501\u2501\u2501\u2501\u2501\u2501\u2501\u2501\u2501\u2501\u2501\u2501\u2501\u2501\u001b[0m\u001b[37m\u2501\u001b[0m \u001b[1m0s\u001b[0m 7ms/step - accuracy: 0.9941 - loss: 0.0153"
     ]
    },
    {
     "name": "stderr",
     "output_type": "stream",
     "text": [
      "WARNING:absl:You are saving your model as an HDF5 file via `model.save()` or `keras.saving.save_model(model)`. This file format is considered legacy. We recommend using instead the native Keras format, e.g. `model.save('my_model.keras')` or `keras.saving.save_model(model, 'my_model.keras')`. \n"
     ]
    },
    {
     "name": "stdout",
     "output_type": "stream",
     "text": [
      "\u001b[1m22914/22914\u001b[0m \u001b[32m\u2501\u2501\u2501\u2501\u2501\u2501\u2501\u2501\u2501\u2501\u2501\u2501\u2501\u2501\u2501\u2501\u2501\u2501\u2501\u2501\u001b[0m\u001b[37m\u001b[0m \u001b[1m172s\u001b[0m 8ms/step - accuracy: 0.9941 - loss: 0.0153 - val_accuracy: 0.9945 - val_loss: 0.0145\n",
      "Epoch 9/50\n",
      "\u001b[1m22910/22914\u001b[0m \u001b[32m\u2501\u2501\u2501\u2501\u2501\u2501\u2501\u2501\u2501\u2501\u2501\u2501\u2501\u2501\u2501\u2501\u2501\u2501\u2501\u001b[0m\u001b[37m\u2501\u001b[0m \u001b[1m0s\u001b[0m 6ms/step - accuracy: 0.9943 - loss: 0.0148"
     ]
    },
    {
     "name": "stderr",
     "output_type": "stream",
     "text": [
      "WARNING:absl:You are saving your model as an HDF5 file via `model.save()` or `keras.saving.save_model(model)`. This file format is considered legacy. We recommend using instead the native Keras format, e.g. `model.save('my_model.keras')` or `keras.saving.save_model(model, 'my_model.keras')`. \n"
     ]
    },
    {
     "name": "stdout",
     "output_type": "stream",
     "text": [
      "\u001b[1m22914/22914\u001b[0m \u001b[32m\u2501\u2501\u2501\u2501\u2501\u2501\u2501\u2501\u2501\u2501\u2501\u2501\u2501\u2501\u2501\u2501\u2501\u2501\u2501\u2501\u001b[0m\u001b[37m\u001b[0m \u001b[1m159s\u001b[0m 7ms/step - accuracy: 0.9943 - loss: 0.0148 - val_accuracy: 0.9948 - val_loss: 0.0130\n",
      "Epoch 10/50\n",
      "\u001b[1m22914/22914\u001b[0m \u001b[32m\u2501\u2501\u2501\u2501\u2501\u2501\u2501\u2501\u2501\u2501\u2501\u2501\u2501\u2501\u2501\u2501\u2501\u2501\u2501\u2501\u001b[0m\u001b[37m\u001b[0m \u001b[1m0s\u001b[0m 10ms/step - accuracy: 0.9945 - loss: 0.0142"
     ]
    },
    {
     "name": "stderr",
     "output_type": "stream",
     "text": [
      "WARNING:absl:You are saving your model as an HDF5 file via `model.save()` or `keras.saving.save_model(model)`. This file format is considered legacy. We recommend using instead the native Keras format, e.g. `model.save('my_model.keras')` or `keras.saving.save_model(model, 'my_model.keras')`. \n"
     ]
    },
    {
     "name": "stdout",
     "output_type": "stream",
     "text": [
      "\u001b[1m22914/22914\u001b[0m \u001b[32m\u2501\u2501\u2501\u2501\u2501\u2501\u2501\u2501\u2501\u2501\u2501\u2501\u2501\u2501\u2501\u2501\u2501\u2501\u2501\u2501\u001b[0m\u001b[37m\u001b[0m \u001b[1m259s\u001b[0m 11ms/step - accuracy: 0.9945 - loss: 0.0142 - val_accuracy: 0.9948 - val_loss: 0.0129\n",
      "Epoch 11/50\n",
      "\u001b[1m22913/22914\u001b[0m \u001b[32m\u2501\u2501\u2501\u2501\u2501\u2501\u2501\u2501\u2501\u2501\u2501\u2501\u2501\u2501\u2501\u2501\u2501\u2501\u2501\u001b[0m\u001b[37m\u2501\u001b[0m \u001b[1m0s\u001b[0m 12ms/step - accuracy: 0.9947 - loss: 0.0135"
     ]
    },
    {
     "name": "stderr",
     "output_type": "stream",
     "text": [
      "WARNING:absl:You are saving your model as an HDF5 file via `model.save()` or `keras.saving.save_model(model)`. This file format is considered legacy. We recommend using instead the native Keras format, e.g. `model.save('my_model.keras')` or `keras.saving.save_model(model, 'my_model.keras')`. \n"
     ]
    },
    {
     "name": "stdout",
     "output_type": "stream",
     "text": [
      "\u001b[1m22914/22914\u001b[0m \u001b[32m\u2501\u2501\u2501\u2501\u2501\u2501\u2501\u2501\u2501\u2501\u2501\u2501\u2501\u2501\u2501\u2501\u2501\u2501\u2501\u2501\u001b[0m\u001b[37m\u001b[0m \u001b[1m312s\u001b[0m 14ms/step - accuracy: 0.9947 - loss: 0.0135 - val_accuracy: 0.9949 - val_loss: 0.0122\n",
      "Epoch 12/50\n",
      "\u001b[1m22913/22914\u001b[0m \u001b[32m\u2501\u2501\u2501\u2501\u2501\u2501\u2501\u2501\u2501\u2501\u2501\u2501\u2501\u2501\u2501\u2501\u2501\u2501\u2501\u001b[0m\u001b[37m\u2501\u001b[0m \u001b[1m0s\u001b[0m 12ms/step - accuracy: 0.9949 - loss: 0.0131"
     ]
    },
    {
     "name": "stderr",
     "output_type": "stream",
     "text": [
      "WARNING:absl:You are saving your model as an HDF5 file via `model.save()` or `keras.saving.save_model(model)`. This file format is considered legacy. We recommend using instead the native Keras format, e.g. `model.save('my_model.keras')` or `keras.saving.save_model(model, 'my_model.keras')`. \n"
     ]
    },
    {
     "name": "stdout",
     "output_type": "stream",
     "text": [
      "\u001b[1m22914/22914\u001b[0m \u001b[32m\u2501\u2501\u2501\u2501\u2501\u2501\u2501\u2501\u2501\u2501\u2501\u2501\u2501\u2501\u2501\u2501\u2501\u2501\u2501\u2501\u001b[0m\u001b[37m\u001b[0m \u001b[1m320s\u001b[0m 14ms/step - accuracy: 0.9949 - loss: 0.0131 - val_accuracy: 0.9953 - val_loss: 0.0116\n",
      "Epoch 13/50\n",
      "\u001b[1m22914/22914\u001b[0m \u001b[32m\u2501\u2501\u2501\u2501\u2501\u2501\u2501\u2501\u2501\u2501\u2501\u2501\u2501\u2501\u2501\u2501\u2501\u2501\u2501\u2501\u001b[0m\u001b[37m\u001b[0m \u001b[1m266s\u001b[0m 12ms/step - accuracy: 0.9951 - loss: 0.0126 - val_accuracy: 0.9947 - val_loss: 0.0131\n",
      "Epoch 14/50\n",
      "\u001b[1m22914/22914\u001b[0m \u001b[32m\u2501\u2501\u2501\u2501\u2501\u2501\u2501\u2501\u2501\u2501\u2501\u2501\u2501\u2501\u2501\u2501\u2501\u2501\u2501\u2501\u001b[0m\u001b[37m\u001b[0m \u001b[1m209s\u001b[0m 9ms/step - accuracy: 0.9951 - loss: 0.0123 - val_accuracy: 0.9938 - val_loss: 0.0151\n",
      "Epoch 15/50\n",
      "\u001b[1m22914/22914\u001b[0m \u001b[32m\u2501\u2501\u2501\u2501\u2501\u2501\u2501\u2501\u2501\u2501\u2501\u2501\u2501\u2501\u2501\u2501\u2501\u2501\u2501\u2501\u001b[0m\u001b[37m\u001b[0m \u001b[1m9814s\u001b[0m 428ms/step - accuracy: 0.9952 - loss: 0.0121 - val_accuracy: 0.9948 - val_loss: 0.0126\n",
      "Epoch 16/50\n",
      "\u001b[1m22914/22914\u001b[0m \u001b[32m\u2501\u2501\u2501\u2501\u2501\u2501\u2501\u2501\u2501\u2501\u2501\u2501\u2501\u2501\u2501\u2501\u2501\u2501\u2501\u2501\u001b[0m\u001b[37m\u001b[0m \u001b[1m0s\u001b[0m 9ms/step - accuracy: 0.9952 - loss: 0.0120"
     ]
    },
    {
     "name": "stderr",
     "output_type": "stream",
     "text": [
      "WARNING:absl:You are saving your model as an HDF5 file via `model.save()` or `keras.saving.save_model(model)`. This file format is considered legacy. We recommend using instead the native Keras format, e.g. `model.save('my_model.keras')` or `keras.saving.save_model(model, 'my_model.keras')`. \n"
     ]
    },
    {
     "name": "stdout",
     "output_type": "stream",
     "text": [
      "\u001b[1m22914/22914\u001b[0m \u001b[32m\u2501\u2501\u2501\u2501\u2501\u2501\u2501\u2501\u2501\u2501\u2501\u2501\u2501\u2501\u2501\u2501\u2501\u2501\u2501\u2501\u001b[0m\u001b[37m\u001b[0m \u001b[1m301s\u001b[0m 11ms/step - accuracy: 0.9952 - loss: 0.0120 - val_accuracy: 0.9957 - val_loss: 0.0107\n",
      "Epoch 17/50\n",
      "\u001b[1m22914/22914\u001b[0m \u001b[32m\u2501\u2501\u2501\u2501\u2501\u2501\u2501\u2501\u2501\u2501\u2501\u2501\u2501\u2501\u2501\u2501\u2501\u2501\u2501\u2501\u001b[0m\u001b[37m\u001b[0m \u001b[1m187s\u001b[0m 8ms/step - accuracy: 0.9954 - loss: 0.0117 - val_accuracy: 0.9940 - val_loss: 0.0159\n",
      "Epoch 18/50\n",
      "\u001b[1m22914/22914\u001b[0m \u001b[32m\u2501\u2501\u2501\u2501\u2501\u2501\u2501\u2501\u2501\u2501\u2501\u2501\u2501\u2501\u2501\u2501\u2501\u2501\u2501\u2501\u001b[0m\u001b[37m\u001b[0m \u001b[1m342s\u001b[0m 15ms/step - accuracy: 0.9954 - loss: 0.0115 - val_accuracy: 0.9937 - val_loss: 0.0178\n",
      "Epoch 19/50\n",
      "\u001b[1m22907/22914\u001b[0m \u001b[32m\u2501\u2501\u2501\u2501\u2501\u2501\u2501\u2501\u2501\u2501\u2501\u2501\u2501\u2501\u2501\u2501\u2501\u2501\u2501\u001b[0m\u001b[37m\u2501\u001b[0m \u001b[1m0s\u001b[0m 4ms/step - accuracy: 0.9954 - loss: 0.0116"
     ]
    },
    {
     "name": "stderr",
     "output_type": "stream",
     "text": [
      "WARNING:absl:You are saving your model as an HDF5 file via `model.save()` or `keras.saving.save_model(model)`. This file format is considered legacy. We recommend using instead the native Keras format, e.g. `model.save('my_model.keras')` or `keras.saving.save_model(model, 'my_model.keras')`. \n"
     ]
    },
    {
     "name": "stdout",
     "output_type": "stream",
     "text": [
      "\u001b[1m22914/22914\u001b[0m \u001b[32m\u2501\u2501\u2501\u2501\u2501\u2501\u2501\u2501\u2501\u2501\u2501\u2501\u2501\u2501\u2501\u2501\u2501\u2501\u2501\u2501\u001b[0m\u001b[37m\u001b[0m \u001b[1m150s\u001b[0m 5ms/step - accuracy: 0.9954 - loss: 0.0116 - val_accuracy: 0.9957 - val_loss: 0.0106\n",
      "Epoch 20/50\n",
      "\u001b[1m22914/22914\u001b[0m \u001b[32m\u2501\u2501\u2501\u2501\u2501\u2501\u2501\u2501\u2501\u2501\u2501\u2501\u2501\u2501\u2501\u2501\u2501\u2501\u2501\u2501\u001b[0m\u001b[37m\u001b[0m \u001b[1m95s\u001b[0m 4ms/step - accuracy: 0.9954 - loss: 0.0115 - val_accuracy: 0.9955 - val_loss: 0.0118\n",
      "Epoch 21/50\n",
      "\u001b[1m22912/22914\u001b[0m \u001b[32m\u2501\u2501\u2501\u2501\u2501\u2501\u2501\u2501\u2501\u2501\u2501\u2501\u2501\u2501\u2501\u2501\u2501\u2501\u2501\u001b[0m\u001b[37m\u2501\u001b[0m \u001b[1m0s\u001b[0m 5ms/step - accuracy: 0.9954 - loss: 0.0114"
     ]
    },
    {
     "name": "stderr",
     "output_type": "stream",
     "text": [
      "WARNING:absl:You are saving your model as an HDF5 file via `model.save()` or `keras.saving.save_model(model)`. This file format is considered legacy. We recommend using instead the native Keras format, e.g. `model.save('my_model.keras')` or `keras.saving.save_model(model, 'my_model.keras')`. \n"
     ]
    },
    {
     "name": "stdout",
     "output_type": "stream",
     "text": [
      "\u001b[1m22914/22914\u001b[0m \u001b[32m\u2501\u2501\u2501\u2501\u2501\u2501\u2501\u2501\u2501\u2501\u2501\u2501\u2501\u2501\u2501\u2501\u2501\u2501\u2501\u2501\u001b[0m\u001b[37m\u001b[0m \u001b[1m167s\u001b[0m 7ms/step - accuracy: 0.9954 - loss: 0.0114 - val_accuracy: 0.9957 - val_loss: 0.0105\n",
      "Epoch 22/50\n",
      "\u001b[1m22914/22914\u001b[0m \u001b[32m\u2501\u2501\u2501\u2501\u2501\u2501\u2501\u2501\u2501\u2501\u2501\u2501\u2501\u2501\u2501\u2501\u2501\u2501\u2501\u2501\u001b[0m\u001b[37m\u001b[0m \u001b[1m126s\u001b[0m 5ms/step - accuracy: 0.9955 - loss: 0.0112 - val_accuracy: 0.9945 - val_loss: 0.0138\n",
      "Epoch 23/50\n",
      "\u001b[1m22914/22914\u001b[0m \u001b[32m\u2501\u2501\u2501\u2501\u2501\u2501\u2501\u2501\u2501\u2501\u2501\u2501\u2501\u2501\u2501\u2501\u2501\u2501\u2501\u2501\u001b[0m\u001b[37m\u001b[0m \u001b[1m113s\u001b[0m 5ms/step - accuracy: 0.9955 - loss: 0.0110 - val_accuracy: 0.9958 - val_loss: 0.0106\n",
      "Epoch 24/50\n",
      "\u001b[1m22914/22914\u001b[0m \u001b[32m\u2501\u2501\u2501\u2501\u2501\u2501\u2501\u2501\u2501\u2501\u2501\u2501\u2501\u2501\u2501\u2501\u2501\u2501\u2501\u2501\u001b[0m\u001b[37m\u001b[0m \u001b[1m124s\u001b[0m 5ms/step - accuracy: 0.9956 - loss: 0.0111 - val_accuracy: 0.9957 - val_loss: 0.0105\n",
      "Epoch 25/50\n",
      "\u001b[1m22914/22914\u001b[0m \u001b[32m\u2501\u2501\u2501\u2501\u2501\u2501\u2501\u2501\u2501\u2501\u2501\u2501\u2501\u2501\u2501\u2501\u2501\u2501\u2501\u2501\u001b[0m\u001b[37m\u001b[0m \u001b[1m127s\u001b[0m 6ms/step - accuracy: 0.9956 - loss: 0.0109 - val_accuracy: 0.9950 - val_loss: 0.0117\n",
      "Epoch 26/50\n",
      "\u001b[1m22914/22914\u001b[0m \u001b[32m\u2501\u2501\u2501\u2501\u2501\u2501\u2501\u2501\u2501\u2501\u2501\u2501\u2501\u2501\u2501\u2501\u2501\u2501\u2501\u2501\u001b[0m\u001b[37m\u001b[0m \u001b[1m133s\u001b[0m 6ms/step - accuracy: 0.9956 - loss: 0.0109 - val_accuracy: 0.9956 - val_loss: 0.0110\n"
     ]
    }
   ],
   "source": [
    "\n",
    "# Train LSTM\n",
    "lstm_model = create_lstm_model(timesteps, n_features)\n",
    "early_stopping = EarlyStopping(monitor='val_loss', patience=5, restore_best_weights=True)\n",
    "checkpoint = ModelCheckpoint('lstm_best.h5', monitor='val_loss', save_best_only=True)\n",
    "\n",
    "history = lstm_model.fit(\n",
    "    X_train, y_train,\n",
    "    validation_data=(X_val, y_val),\n",
    "    epochs=50,\n",
    "    batch_size=128,\n",
    "    callbacks=[early_stopping, checkpoint],\n",
    "    verbose=1\n",
    ")\n"
   ]
  },
  {
   "cell_type": "code",
   "execution_count": 11,
   "id": "c13a7931",
   "metadata": {},
   "outputs": [
    {
     "name": "stderr",
     "output_type": "stream",
     "text": [
      "WARNING:absl:You are saving your model as an HDF5 file via `model.save()` or `keras.saving.save_model(model)`. This file format is considered legacy. We recommend using instead the native Keras format, e.g. `model.save('my_model.keras')` or `keras.saving.save_model(model, 'my_model.keras')`. \n"
     ]
    },
    {
     "name": "stdout",
     "output_type": "stream",
     "text": [
      "LSTM model trained and saved.\n"
     ]
    }
   ],
   "source": [
    "# Save model\n",
    "lstm_model.save('lstm_final.h5')\n",
    "print(\"LSTM model trained and saved.\")"
   ]
  },
  {
   "cell_type": "code",
   "execution_count": 12,
   "id": "54f8ad68",
   "metadata": {},
   "outputs": [
    {
     "name": "stdout",
     "output_type": "stream",
     "text": [
      "\n",
      "LSTM Evaluation:\n",
      "Accuracy: 0.9956816789581294\n",
      "Precision: 0.9935456682784013\n",
      "Recall: 0.9978456094347669\n",
      "F1-Score: 0.9956909965007208\n",
      "ROC-AUC: 0.9999108690564813\n",
      "\n",
      "Classification Report:\n",
      "               precision    recall  f1-score   support\n",
      "\n",
      "           0       1.00      0.99      1.00    314243\n",
      "           1       0.99      1.00      1.00    314242\n",
      "\n",
      "    accuracy                           1.00    628485\n",
      "   macro avg       1.00      1.00      1.00    628485\n",
      "weighted avg       1.00      1.00      1.00    628485\n",
      "\n"
     ]
    }
   ],
   "source": [
    "# Evaluate on test set\n",
    "lstm_pred = (lstm_model.predict(X_test, verbose=0) > 0.5).astype(int).flatten()\n",
    "lstm_prob = lstm_model.predict(X_test, verbose=0).flatten()\n",
    "lstm_metrics = evaluate_model(y_test, lstm_pred, lstm_prob, \"LSTM\")"
   ]
  },
  {
   "cell_type": "code",
   "execution_count": 13,
   "id": "88d47a31",
   "metadata": {},
   "outputs": [],
   "source": [
    "# Plot training history\n",
    "plt.figure(figsize=(12, 4))\n",
    "plt.subplot(1, 2, 1)\n",
    "plt.plot(history.history['loss'], label='Train Loss')\n",
    "plt.plot(history.history['val_loss'], label='Validation Loss')\n",
    "plt.title('LSTM Loss')\n",
    "plt.xlabel('Epoch')\n",
    "plt.ylabel('Loss')\n",
    "plt.legend()\n",
    "plt.subplot(1, 2, 2)\n",
    "plt.plot(history.history['accuracy'], label='Train Accuracy')\n",
    "plt.plot(history.history['val_accuracy'], label='Validation Accuracy')\n",
    "plt.title('LSTM Accuracy')\n",
    "plt.xlabel('Epoch')\n",
    "plt.ylabel('Accuracy')\n",
    "plt.legend()\n",
    "plt.tight_layout()\n",
    "plt.savefig('lstm_training_history.png')\n",
    "plt.close()"
   ]
  },
  {
   "cell_type": "code",
   "execution_count": 14,
   "id": "1745231e",
   "metadata": {},
   "outputs": [
    {
     "name": "stdout",
     "output_type": "stream",
     "text": [
      "\n",
      "LSTM Metrics:\n",
      "       Accuracy  Precision    Recall  F1-Score   ROC-AUC\n",
      "Model                                                   \n",
      "LSTM   0.995682   0.993546  0.997846  0.995691  0.999911\n"
     ]
    }
   ],
   "source": [
    "# Save metrics\n",
    "metrics_df = pd.DataFrame([lstm_metrics]).set_index('Model')\n",
    "metrics_df.to_csv('lstm_metrics.csv')\n",
    "print(\"\\nLSTM Metrics:\")\n",
    "print(metrics_df)\n"
   ]
  },
  {
   "cell_type": "code",
   "execution_count": 15,
   "id": "7c19558c",
   "metadata": {},
   "outputs": [
    {
     "name": "stdout",
     "output_type": "stream",
     "text": [
      "Inference time for 100 samples: 0.0917 seconds\n"
     ]
    }
   ],
   "source": [
    "\n",
    "# Real-time feasibility test\n",
    "import time\n",
    "start_time = time.time()\n",
    "lstm_model.predict(X_test[:100], verbose=0)\n",
    "inference_time = time.time() - start_time\n",
    "print(f\"Inference time for 100 samples: {inference_time:.4f} seconds\")"
   ]
  }
 ],
 "metadata": {
  "kernelspec": {
   "display_name": "venv",
   "language": "python",
   "name": "python3"
  },
  "language_info": {
   "codemirror_mode": {
    "name": "ipython",
    "version": 3
   },
   "file_extension": ".py",
   "mimetype": "text/x-python",
   "name": "python",
   "nbconvert_exporter": "python",
   "pygments_lexer": "ipython3",
   "version": "3.9.13"
  }
 },
 "nbformat": 4,
 "nbformat_minor": 5
}